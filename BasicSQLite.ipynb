{
 "cells": [
  {
   "cell_type": "markdown",
   "id": "8eb253a1",
   "metadata": {},
   "source": [
    "### SQL And SQLite\n",
    "\n",
    "SQL(Structured Query Language) is a standard language managing and manipulating relational databases.\n",
    "\n",
    "Basics of SQL and SQLite\n"
   ]
  },
  {
   "cell_type": "code",
   "execution_count": 2,
   "id": "b724387b",
   "metadata": {},
   "outputs": [],
   "source": [
    "import sqlite3"
   ]
  },
  {
   "cell_type": "code",
   "execution_count": 3,
   "id": "97a71ca8",
   "metadata": {},
   "outputs": [
    {
     "data": {
      "text/plain": [
       "<sqlite3.Connection at 0x1115548b0>"
      ]
     },
     "execution_count": 3,
     "metadata": {},
     "output_type": "execute_result"
    }
   ],
   "source": [
    "## Connect to an SQLite database\n",
    "connection = sqlite3.connect('example.db')\n",
    "connection"
   ]
  },
  {
   "cell_type": "code",
   "execution_count": 4,
   "id": "e507ca46",
   "metadata": {},
   "outputs": [],
   "source": [
    "cursor = connection.cursor()\n"
   ]
  },
  {
   "cell_type": "code",
   "execution_count": 5,
   "id": "0fad2b68",
   "metadata": {},
   "outputs": [],
   "source": [
    "## Create a Table\n",
    "cursor.execute('''\n",
    "Create Table If Not Exists employees(\n",
    "    id Integer Primary Key,\n",
    "               name Text Not Null,\n",
    "               age Integer,\n",
    "               department text\n",
    "               )\n",
    "''')\n",
    "\n",
    "## Commit the changes \n",
    "connection.commit()"
   ]
  },
  {
   "cell_type": "code",
   "execution_count": 6,
   "id": "221530a1",
   "metadata": {},
   "outputs": [
    {
     "data": {
      "text/plain": [
       "<sqlite3.Cursor at 0x111171ac0>"
      ]
     },
     "execution_count": 6,
     "metadata": {},
     "output_type": "execute_result"
    }
   ],
   "source": [
    "cursor.execute('''\n",
    "Select * from employees\n",
    "''')"
   ]
  },
  {
   "cell_type": "code",
   "execution_count": 7,
   "id": "566a8f7c",
   "metadata": {},
   "outputs": [],
   "source": [
    "## Insert the data in sqlite table \n",
    "cursor.execute('''\n",
    "Insert Into employees(name,age,department)\n",
    "               values('Harshini',19,'A.I Developer')\n",
    "''')\n",
    "\n",
    "cursor.execute('''\n",
    "Insert Into employees(name,age,department)\n",
    "               values('Aryan',22,'SQL Developer')\n",
    "''')\n",
    "\n",
    "cursor.execute('''\n",
    "Insert Into employees(name,age,department)\n",
    "               values('Chandra Reddy',50,'Driver')\n",
    "''')\n",
    "\n",
    "##\n",
    "connection.commit()\n"
   ]
  },
  {
   "cell_type": "code",
   "execution_count": 8,
   "id": "1297fb8f",
   "metadata": {},
   "outputs": [
    {
     "name": "stdout",
     "output_type": "stream",
     "text": [
      "(1, 'Harshini', 19, 'A.I Developer')\n",
      "(2, 'Aryan', 22, 'SQL Developer')\n",
      "(3, 'Chandra Reddy', 50, 'Driver')\n"
     ]
    }
   ],
   "source": [
    "## Query the data from the table\n",
    "cursor.execute('Select * from employees')\n",
    "rows = cursor.fetchall()\n",
    "\n",
    "## print the queried data\n",
    "\n",
    "for row in rows:\n",
    "    print(row)"
   ]
  },
  {
   "cell_type": "code",
   "execution_count": null,
   "id": "a5c38cda",
   "metadata": {},
   "outputs": [],
   "source": [
    "https://meet.google.com/hxo-vkqa-hqx"
   ]
  }
 ],
 "metadata": {
  "kernelspec": {
   "display_name": "venv",
   "language": "python",
   "name": "python3"
  },
  "language_info": {
   "codemirror_mode": {
    "name": "ipython",
    "version": 3
   },
   "file_extension": ".py",
   "mimetype": "text/x-python",
   "name": "python",
   "nbconvert_exporter": "python",
   "pygments_lexer": "ipython3",
   "version": "3.13.5"
  }
 },
 "nbformat": 4,
 "nbformat_minor": 5
}
